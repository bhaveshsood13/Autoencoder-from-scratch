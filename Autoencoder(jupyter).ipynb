{
  "nbformat": 4,
  "nbformat_minor": 0,
  "metadata": {
    "colab": {
      "name": "A4_2019355_QA.ipynb",
      "provenance": [],
      "collapsed_sections": []
    },
    "kernelspec": {
      "name": "python3",
      "display_name": "Python 3"
    },
    "language_info": {
      "name": "python"
    }
  },
  "cells": [
    {
      "cell_type": "code",
      "metadata": {
        "id": "gII8xNz2Rq_i",
        "colab": {
          "base_uri": "https://localhost:8080/"
        },
        "outputId": "ae5c0ec3-21bb-4451-b796-c4689bfbeb71"
      },
      "source": [
        "import numpy as np\n",
        "np.random.seed(43)\n",
        "import matplotlib.pyplot as plt\n",
        "mean1=[0,0,0]\n",
        "cov1 = [[1, 0.8, 0.8], [0.8, 1, 0.8],[0.8, 0.8, 1]] \n",
        "X= np.random.multivariate_normal(mean1, cov1, 1000)\n",
        "print(X)\n"
      ],
      "execution_count": null,
      "outputs": [
        {
          "output_type": "stream",
          "text": [
            "[[-0.37783608  0.11676566 -0.45780845]\n",
            " [ 0.3471694   0.30203767  0.8447309 ]\n",
            " [-0.0026565  -1.33003507 -0.05867343]\n",
            " ...\n",
            " [ 0.59601504  0.73963566  0.50036625]\n",
            " [-0.00954922  0.69076099 -0.27270638]\n",
            " [-1.55886924 -1.23020385 -1.11034104]]\n"
          ],
          "name": "stdout"
        }
      ]
    },
    {
      "cell_type": "code",
      "metadata": {
        "colab": {
          "base_uri": "https://localhost:8080/"
        },
        "id": "KBhRd0-nAg5y",
        "outputId": "56c288ab-9a37-496f-c97a-dba5e7ea5df0"
      },
      "source": [
        "X_min=np.min(X)\n",
        "X_max=np.max(X)\n",
        "X = (X - X_min)/(X_max - X_min)\n",
        "X"
      ],
      "execution_count": null,
      "outputs": [
        {
          "output_type": "execute_result",
          "data": {
            "text/plain": [
              "array([[0.46034139, 0.53913369, 0.44760142],\n",
              "       [0.57583806, 0.56864837, 0.65510187],\n",
              "       [0.5201092 , 0.30865175, 0.51118545],\n",
              "       ...,\n",
              "       [0.6154803 , 0.63835972, 0.60024302],\n",
              "       [0.51901116, 0.63057376, 0.47708902],\n",
              "       [0.27219743, 0.32455532, 0.34365001]])"
            ]
          },
          "metadata": {
            "tags": []
          },
          "execution_count": 330
        }
      ]
    },
    {
      "cell_type": "code",
      "metadata": {
        "colab": {
          "base_uri": "https://localhost:8080/"
        },
        "id": "Ky5qIFbGAsI2",
        "outputId": "ef98d288-a348-4aeb-8e1c-4302877c4801"
      },
      "source": [
        "print(X.shape)\n",
        "X=X.T"
      ],
      "execution_count": null,
      "outputs": [
        {
          "output_type": "stream",
          "text": [
            "(1000, 3)\n"
          ],
          "name": "stdout"
        }
      ]
    },
    {
      "cell_type": "code",
      "metadata": {
        "id": "fTjvyqT_HqPJ",
        "colab": {
          "base_uri": "https://localhost:8080/"
        },
        "outputId": "d017ce82-797b-4f64-83f5-36f3c817fc7c"
      },
      "source": [
        "X_train=X[:,:800]\n",
        "X_test=X[:,800:]\n",
        "print(X_train.shape,X_test.shape)\n"
      ],
      "execution_count": null,
      "outputs": [
        {
          "output_type": "stream",
          "text": [
            "(3, 800) (3, 200)\n"
          ],
          "name": "stdout"
        }
      ]
    },
    {
      "cell_type": "code",
      "metadata": {
        "id": "-D0AtLMEAgGf"
      },
      "source": [
        ""
      ],
      "execution_count": null,
      "outputs": []
    },
    {
      "cell_type": "code",
      "metadata": {
        "id": "ZFvHg43tv6lG"
      },
      "source": [
        ""
      ],
      "execution_count": null,
      "outputs": []
    },
    {
      "cell_type": "code",
      "metadata": {
        "id": "VXTj9IVUxzyd"
      },
      "source": [
        "def sigmoid(x):\n",
        "    return 1/(1+np.exp(-x))"
      ],
      "execution_count": null,
      "outputs": []
    },
    {
      "cell_type": "code",
      "metadata": {
        "colab": {
          "base_uri": "https://localhost:8080/"
        },
        "id": "t1e-6pdYABeD",
        "outputId": "a56b7277-9320-4898-d404-f09200b86d76"
      },
      "source": [
        "trs=np.array([1,2,3])\n",
        "print(trs*trs)"
      ],
      "execution_count": null,
      "outputs": [
        {
          "output_type": "stream",
          "text": [
            "[1 4 9]\n"
          ],
          "name": "stdout"
        }
      ]
    },
    {
      "cell_type": "code",
      "metadata": {
        "colab": {
          "base_uri": "https://localhost:8080/"
        },
        "id": "0fkOO_JIAHEa",
        "outputId": "38256d38-fc65-4fe3-f388-7f370ceec9c9"
      },
      "source": [
        "X\n"
      ],
      "execution_count": null,
      "outputs": [
        {
          "output_type": "execute_result",
          "data": {
            "text/plain": [
              "array([[0.46034139, 0.57583806, 0.5201092 , ..., 0.6154803 , 0.51901116,\n",
              "        0.27219743],\n",
              "       [0.53913369, 0.56864837, 0.30865175, ..., 0.63835972, 0.63057376,\n",
              "        0.32455532],\n",
              "       [0.44760142, 0.65510187, 0.51118545, ..., 0.60024302, 0.47708902,\n",
              "        0.34365001]])"
            ]
          },
          "metadata": {
            "tags": []
          },
          "execution_count": 335
        }
      ]
    },
    {
      "cell_type": "code",
      "metadata": {
        "id": "zBOI_Vq4AH9a"
      },
      "source": [
        "def initialize_parameters(n_x, n_h, n_y):\n",
        "    W1 = np.random.randn(n_h, n_x) * 0.01\n",
        "    B1 = np.zeros(shape=(n_h, 1))\n",
        "    W2 = np.random.randn(n_y, n_h) * 0.01\n",
        "    B2 = np.zeros(shape=(n_y, 1))\n",
        "    parameters = {\"W1\": W1,\"B1\": B1, \"W2\": W2,\"B2\": B2}\n",
        "    \n",
        "    return parameters "
      ],
      "execution_count": null,
      "outputs": []
    },
    {
      "cell_type": "code",
      "metadata": {
        "id": "w68ddtnnGJQi"
      },
      "source": [
        ""
      ],
      "execution_count": null,
      "outputs": []
    },
    {
      "cell_type": "code",
      "metadata": {
        "id": "KKMt8t_5GMYA"
      },
      "source": [
        "def forwardprop(parameters,Xi):\n",
        "  W1=parameters[\"W1\"]\n",
        "  W2=parameters[\"W2\"]\n",
        "  B1=parameters[\"B1\"]\n",
        "  B2=parameters[\"B2\"]\n",
        "  A1 = np.matmul(W1, Xi) + B1\n",
        "  Z1= sigmoid(A1)\n",
        "  A2 = np.matmul(W2, Z1) + B2\n",
        "  Z2=sigmoid(A2)\n",
        "  cache={\"Z2\":Z2,\"A2\":A2,\"Z1\":Z1,\"A1\":A1}\n",
        "  return cache\n",
        "  \n"
      ],
      "execution_count": null,
      "outputs": []
    },
    {
      "cell_type": "code",
      "metadata": {
        "id": "Hby7lroXLn2i"
      },
      "source": [
        "def backwardprop(cache,parameters,Xi):\n",
        "  Z2=cache[\"Z2\"]\n",
        "  A2=cache[\"A2\"]\n",
        "  Z1=cache[\"Z1\"]\n",
        "  A1=cache[\"A1\"]\n",
        "  W1=parameters[\"W1\"]\n",
        "  W2=parameters[\"W2\"]\n",
        "  B1=parameters[\"B1\"]\n",
        "  B2=parameters[\"B2\"]\n",
        "  E=(Xi-Z2)**2;\n",
        "  dZ2= -2*(Xi-Z2)\n",
        "  dA2=dZ2*(Z2*(1-Z2))\n",
        "  dW2=np.dot(dA2,Z1.T)\n",
        "  dB2=dA2\n",
        "  dZ1=np.dot(W2.T,dA2)\n",
        "  dA1=dZ1*(Z1*(1-Z1))\n",
        "  dW1=np.dot(dA1,Xi.T)\n",
        "  dB1=dA1\n",
        "\n",
        "  grads={'dZ2':dZ2,'dA2':dA2,'dZ1':dZ1,'dW2':dW2,'dW1':dW1,'dA1':dA1,'dB2':dB2,'dB1':dB1}\n",
        "  return grads"
      ],
      "execution_count": null,
      "outputs": []
    },
    {
      "cell_type": "code",
      "metadata": {
        "id": "Ux8VhEsVSsHa"
      },
      "source": [
        "def updateweights(parameters,grads,learningrate):\n",
        "  W1=parameters[\"W1\"]\n",
        "  W2=parameters[\"W2\"]\n",
        "  B1=parameters[\"B1\"]\n",
        "  B2=parameters[\"B2\"]\n",
        "  W2-=learningrate*grads['dW2']\n",
        "  W1-=learningrate*grads['dW1']\n",
        "  B2-=learningrate*grads['dB2']\n",
        "  B1-=learningrate*grads['dB1']\n",
        "  parameters = {\"W1\": W1,\"B1\": B1, \"W2\": W2,\"B2\": B2}\n",
        "  return parameters"
      ],
      "execution_count": null,
      "outputs": []
    },
    {
      "cell_type": "code",
      "metadata": {
        "id": "pyTjTHweTzFM"
      },
      "source": [
        "def runepoch(X_given,parameters):\n",
        "  assert (X_given.shape==(3,800))\n",
        "  for i in range(800):\n",
        "    cur_cache=forwardprop(parameters,X_given[:,i:i+1])\n",
        "    cur_grad=backwardprop(cur_cache,parameters,X_given[:,i:i+1])\n",
        "    parameters=updateweights(parameters,cur_grad,.03)\n",
        "  return parameters"
      ],
      "execution_count": null,
      "outputs": []
    },
    {
      "cell_type": "code",
      "metadata": {
        "id": "BlZ492ScUmVb"
      },
      "source": [
        "parameters=initialize_parameters(3, 2, 3)\n",
        "testepocherror=[];\n",
        "trainepocherror=[]\n",
        "index=np.arange(1,101,1)\n",
        "for i in range(100):\n",
        "  p = np.random.permutation(800)\n",
        "  parameters=runepoch(X_train[:,p],parameters)\n",
        "  totalerror=0\n",
        "  totaler2=0\n",
        "  for i in range(200):\n",
        "    curans=forwardprop(parameters,X_test[:,i:i+1])\n",
        "    yhat=curans['Z2']\n",
        "    Ei=(X_test[:,i:i+1]-yhat)**2;\n",
        "    totalerror+=Ei \n",
        "  MSE=totalerror/200\n",
        "  testepocherror.append(np.sum(MSE))\n",
        "  for i in range(800):\n",
        "    curans=forwardprop(parameters,X_train[:,i:i+1])\n",
        "    yhat=curans['Z2']\n",
        "    Ei=(X_train[:,i:i+1]-yhat)**2;\n",
        "    totaler2+=Ei \n",
        "  MSE=totaler2/800\n",
        "  trainepocherror.append(np.sum(MSE))\n",
        "\n",
        "  # print(totalerror)\n",
        "\n",
        "\n"
      ],
      "execution_count": null,
      "outputs": []
    },
    {
      "cell_type": "code",
      "metadata": {
        "colab": {
          "base_uri": "https://localhost:8080/",
          "height": 621
        },
        "id": "D0rvXrwYnXkK",
        "outputId": "4cab3fe9-88ae-4d4c-b71c-035d2e34938b"
      },
      "source": [
        "plt.figure(figsize=(13,10))\n",
        "plt.plot(index, testepocherror, 'b',label=\"Testing error\")\n",
        "plt.plot(index, trainepocherror,'g',label=\"Training error\")\n",
        "plt.xlabel(\"Epoch\")\n",
        "plt.ylabel(\"MSE Error\")\n",
        "plt.title(\"Epoch vs MSE Error of self implemented code\")\n",
        "plt.legend()\n",
        "plt.axis([0, 100, 0, 0.09])\n",
        "plt.show()"
      ],
      "execution_count": null,
      "outputs": [
        {
          "output_type": "display_data",
          "data": {
            "image/png": "[encoded data removed]",
            "text/plain": [
              "<Figure size 936x720 with 1 Axes>"
            ]
          },
          "metadata": {
            "tags": [],
            "needs_background": "light"
          }
        }
      ]
    },
    {
      "cell_type": "code",
      "metadata": {
        "colab": {
          "base_uri": "https://localhost:8080/"
        },
        "id": "cLhIf_8hVL8p",
        "outputId": "c0f0869b-2f8d-475f-b8ae-e4722e3c2a46"
      },
      "source": [
        "trainepocherror[-1],testepocherror[-1]"
      ],
      "execution_count": null,
      "outputs": [
        {
          "output_type": "execute_result",
          "data": {
            "text/plain": [
              "(0.010873232615716955, 0.013320378386287095)"
            ]
          },
          "metadata": {
            "tags": []
          },
          "execution_count": 305
        }
      ]
    },
    {
      "cell_type": "code",
      "metadata": {
        "colab": {
          "base_uri": "https://localhost:8080/"
        },
        "id": "pCAQYaX_IScR",
        "outputId": "18ace7cc-adf6-40f0-c13a-ef8666c62da3"
      },
      "source": [
        "\n",
        "curans=forwardprop(parameters,X_test[:,60:61])\n",
        "print(X_test[:,60:61])\n",
        "print(curans[\"Z1\"],\"FINAL\")\n",
        "print(curans[\"Z2\"])"
      ],
      "execution_count": null,
      "outputs": [
        {
          "output_type": "stream",
          "text": [
            "[[0.37913268]\n",
            " [0.5108019 ]\n",
            " [0.4170026 ]]\n",
            "[[0.36792782]\n",
            " [0.41716501]] FINAL\n",
            "[[0.42316229]\n",
            " [0.4223193 ]\n",
            " [0.42489503]]\n"
          ],
          "name": "stdout"
        }
      ]
    },
    {
      "cell_type": "markdown",
      "metadata": {
        "id": "JCYpD5KpwqCV"
      },
      "source": [
        "**IMPLEMENTATION THROUGH PYTORCH AUTOGRAD**"
      ]
    },
    {
      "cell_type": "code",
      "metadata": {
        "id": "Qp7-R5BWXdN4"
      },
      "source": [
        "import torch"
      ],
      "execution_count": null,
      "outputs": []
    },
    {
      "cell_type": "code",
      "metadata": {
        "id": "phiBQixcaRLx"
      },
      "source": [
        "X_torch=torch.from_numpy(X)"
      ],
      "execution_count": null,
      "outputs": []
    },
    {
      "cell_type": "markdown",
      "metadata": {
        "id": "XfF5AwDEuexp"
      },
      "source": [
        "We get the normalised data directly from the previous numpy array"
      ]
    },
    {
      "cell_type": "code",
      "metadata": {
        "colab": {
          "base_uri": "https://localhost:8080/"
        },
        "id": "d0N4j5L6uTOQ",
        "outputId": "f7e2a167-f515-45c6-855b-52b111e25df3"
      },
      "source": [
        "X_torch"
      ],
      "execution_count": null,
      "outputs": [
        {
          "output_type": "execute_result",
          "data": {
            "text/plain": [
              "tensor([[0.4603, 0.5758, 0.5201,  ..., 0.6155, 0.5190, 0.2722],\n",
              "        [0.5391, 0.5686, 0.3087,  ..., 0.6384, 0.6306, 0.3246],\n",
              "        [0.4476, 0.6551, 0.5112,  ..., 0.6002, 0.4771, 0.3437]],\n",
              "       dtype=torch.float64)"
            ]
          },
          "metadata": {
            "tags": []
          },
          "execution_count": 346
        }
      ]
    },
    {
      "cell_type": "code",
      "metadata": {
        "colab": {
          "base_uri": "https://localhost:8080/"
        },
        "id": "0AyBKw7FuZxm",
        "outputId": "74af7931-c2af-4c87-f2a0-4d9fab295edc"
      },
      "source": [
        "X_train=torch.tensor(X_train)\n",
        "X_test=torch.tensor(X_test)\n",
        "X_train.dtype"
      ],
      "execution_count": null,
      "outputs": [
        {
          "output_type": "execute_result",
          "data": {
            "text/plain": [
              "torch.float64"
            ]
          },
          "metadata": {
            "tags": []
          },
          "execution_count": 347
        }
      ]
    },
    {
      "cell_type": "code",
      "metadata": {
        "id": "wrqehcAeu4dn"
      },
      "source": [
        "def initialize_parameterstorch(n_x, n_h, n_y):\n",
        "    W1 = torch.randn(n_h, n_x,requires_grad=True,dtype=torch.float64) * 0.01\n",
        "    B1 = torch.zeros(n_h, 1, requires_grad=True,dtype=torch.float64)\n",
        "    W2 = torch.randn(n_y, n_h,requires_grad=True,dtype=torch.float64) * 0.01\n",
        "    B2 = torch.zeros(n_y, 1, requires_grad=True,dtype=torch.float64)\n",
        "    parameters = {\"W1\": W1,\"B1\": B1, \"W2\": W2,\"B2\": B2}\n",
        "    \n",
        "    return parameters "
      ],
      "execution_count": null,
      "outputs": []
    },
    {
      "cell_type": "code",
      "metadata": {
        "id": "xbt1OJzHxOcv"
      },
      "source": [
        "def forwardproptorch(parameters, Xi):\n",
        "  W1=parameters[\"W1\"]\n",
        "  W2=parameters[\"W2\"]\n",
        "  B1=parameters[\"B1\"]\n",
        "  B2=parameters[\"B2\"]\n",
        "  # print(W1.shape,W1.dtype)\n",
        "  A1 = torch.matmul (W1,Xi) + B1\n",
        "  Z1= torch.sigmoid(A1)\n",
        "  A2 = torch.matmul (W2,Z1)+B2\n",
        "  Z2=torch.sigmoid(A2)\n",
        "  E=(Xi-Z2)**2;\n",
        "  # print(E)   \n",
        "  E.retain_grad()\n",
        "  Z2.retain_grad()\n",
        "  A2.retain_grad()\n",
        "  Z1.retain_grad()\n",
        "  A1.retain_grad()\n",
        "  W2.retain_grad()\n",
        "  W1.retain_grad()\n",
        "  B2.retain_grad()\n",
        "  B1.retain_grad()\n",
        "  \n",
        "  E.sum().backward(retain_graph=True)\n",
        "  # print(\"E.grad \",E.grad,\"Z2.grad \",Z2.grad,\"A2.grad \",A2.grad,\"W2.grad \",W2.grad)\n",
        "  grads={'dZ2':Z2.grad,'dA2':A2.grad,'dZ1':Z1.grad,'dW2':W2.grad,'dW1':W1.grad,'dA1':A1.grad,'dB2':B2.grad,'dB1':B1.grad}\n",
        "  cache={\"Z2\":Z2,\"A2\":A2,\"Z1\":Z1,\"A1\":A1}\n",
        "  return cache,grads"
      ],
      "execution_count": null,
      "outputs": []
    },
    {
      "cell_type": "code",
      "metadata": {
        "id": "8onLxSvfxrZ-"
      },
      "source": [
        "def updateweightstorch(parameters,grads,learningrate):\n",
        "  W1=parameters[\"W1\"]\n",
        "  W2=parameters[\"W2\"]\n",
        "  B1=parameters[\"B1\"]\n",
        "  B2=parameters[\"B2\"]\n",
        "  with torch.no_grad():\n",
        "        # print(\"GRADIENT \",W2,W2.grad)\n",
        "        W2-=learningrate*W2.grad\n",
        "        W1-=learningrate*W1.grad\n",
        "        B2-=learningrate*B2.grad\n",
        "        B1-=learningrate*B1.grad\n",
        "  W2.grad.zero_()\n",
        "  W1.grad.zero_()\n",
        "  B1.grad.zero_()\n",
        "  B2.grad.zero_()\n",
        "  parameters = {\"W1\": W1,\"B1\": B1, \"W2\": W2,\"B2\": B2}\n",
        "  return parameters"
      ],
      "execution_count": null,
      "outputs": []
    },
    {
      "cell_type": "code",
      "metadata": {
        "id": "Jjj1wbQ2yYbe"
      },
      "source": [
        "def runepochtorch(X_given,parameters):\n",
        "  assert (X_given.shape==(3,800))\n",
        "  for i in range(800):\n",
        "    cur_cache,cur_grad=forwardproptorch(parameters,X_given[:,i:i+1])\n",
        "    parameters=updateweightstorch(parameters,cur_grad,.03)\n",
        "  return parameters"
      ],
      "execution_count": null,
      "outputs": []
    },
    {
      "cell_type": "code",
      "metadata": {
        "id": "ySKVoHNZylld"
      },
      "source": [
        "parameters=initialize_parameterstorch(3, 2, 3)\n",
        "testepocherror=[];\n",
        "trainepocherror=[]\n",
        "index=np.arange(1,101,1)\n",
        "for i in range(100):\n",
        "  p = np.random.permutation(800)\n",
        "  parameters=runepochtorch(X_train[:,p],parameters)\n",
        "  totalerror=0\n",
        "  totaler2=0\n",
        "  for i in range(200):\n",
        "    curans,grad=forwardproptorch(parameters,X_test[:,i:i+1])\n",
        "    yhat=curans['Z2']\n",
        "    Ei=(X_test[:,i:i+1]-yhat)**2;\n",
        "    totalerror+=Ei \n",
        "  MSE=totalerror/200\n",
        "  testepocherror.append(torch.sum(MSE))\n",
        "  for i in range(800):\n",
        "    curans,grad=forwardproptorch(parameters,X_train[:,i:i+1])\n",
        "    yhat=curans['Z2']\n",
        "    Ei=(X_train[:,i:i+1]-yhat)**2;\n",
        "    totaler2+=Ei \n",
        "  MSE=totaler2/800\n",
        "  trainepocherror.append(torch.sum(MSE))\n",
        "  # print(totalerror)\n",
        "\n"
      ],
      "execution_count": null,
      "outputs": []
    },
    {
      "cell_type": "code",
      "metadata": {
        "colab": {
          "base_uri": "https://localhost:8080/",
          "height": 621
        },
        "id": "6KyMW6EEnSZS",
        "outputId": "cf0aa065-32c1-459d-d52a-735b1b31e914"
      },
      "source": [
        "plt.figure(figsize=(13,10))\n",
        "plt.plot(index, testepocherror, 'b',label=\"Testing error\")\n",
        "plt.plot(index, trainepocherror,'g',label=\"Training error\")\n",
        "plt.xlabel(\"Epoch\")\n",
        "plt.ylabel(\"MSE Error\")\n",
        "plt.title(\"Epoch vs MSE Error Using Autograd\")\n",
        "plt.legend()\n",
        "plt.axis([0, 100, 0, 0.09])\n",
        "plt.show()"
      ],
      "execution_count": null,
      "outputs": [
        {
          "output_type": "display_data",
          "data": {
            "image/png": "[encoded data removed]",
            "text/plain": [
              "<Figure size 936x720 with 1 Axes>"
            ]
          },
          "metadata": {
            "tags": [],
            "needs_background": "light"
          }
        }
      ]
    },
    {
      "cell_type": "code",
      "metadata": {
        "colab": {
          "base_uri": "https://localhost:8080/"
        },
        "id": "VrktnBpkyvZF",
        "outputId": "83e36606-b633-4097-b046-0dc4721a99d9"
      },
      "source": [
        "trainepocherror[-1],testepocherror[-1]"
      ],
      "execution_count": null,
      "outputs": [
        {
          "output_type": "execute_result",
          "data": {
            "text/plain": [
              "(tensor(0.0105, dtype=torch.float64, grad_fn=<SumBackward0>),\n",
              " tensor(0.0129, dtype=torch.float64, grad_fn=<SumBackward0>))"
            ]
          },
          "metadata": {
            "tags": []
          },
          "execution_count": 355
        }
      ]
    },
    {
      "cell_type": "code",
      "metadata": {
        "id": "nHo0A5OIujkn"
      },
      "source": [
        ""
      ],
      "execution_count": null,
      "outputs": []
    }
  ]
}